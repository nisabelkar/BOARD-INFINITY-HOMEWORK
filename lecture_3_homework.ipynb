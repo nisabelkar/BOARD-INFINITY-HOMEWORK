{
  "nbformat": 4,
  "nbformat_minor": 0,
  "metadata": {
    "colab": {
      "name": "lecture 3 homework.ipynb",
      "provenance": [],
      "authorship_tag": "ABX9TyPboqI1+wnj1CDJNxdIIxF6",
      "include_colab_link": true
    },
    "kernelspec": {
      "name": "python3",
      "display_name": "Python 3"
    }
  },
  "cells": [
    {
      "cell_type": "markdown",
      "metadata": {
        "id": "view-in-github",
        "colab_type": "text"
      },
      "source": [
        "<a href=\"https://colab.research.google.com/github/nisabelkar/BOARD-INFINITY-HOMEWORK/blob/master/lecture_3_homework.ipynb\" target=\"_parent\"><img src=\"https://colab.research.google.com/assets/colab-badge.svg\" alt=\"Open In Colab\"/></a>"
      ]
    },
    {
      "cell_type": "code",
      "metadata": {
        "id": "b2-yvkTbhXoh",
        "colab_type": "code",
        "outputId": "cc739709-7f48-49b6-b1b8-838094a8515b",
        "colab": {
          "base_uri": "https://localhost:8080/",
          "height": 108
        }
      },
      "source": [
        "#1. Install Pandas and numpy library\n",
        "\n",
        "!pip install pandas"
      ],
      "execution_count": 0,
      "outputs": [
        {
          "output_type": "stream",
          "text": [
            "Requirement already satisfied: pandas in /usr/local/lib/python3.6/dist-packages (0.25.3)\n",
            "Requirement already satisfied: numpy>=1.13.3 in /usr/local/lib/python3.6/dist-packages (from pandas) (1.17.5)\n",
            "Requirement already satisfied: python-dateutil>=2.6.1 in /usr/local/lib/python3.6/dist-packages (from pandas) (2.6.1)\n",
            "Requirement already satisfied: pytz>=2017.2 in /usr/local/lib/python3.6/dist-packages (from pandas) (2018.9)\n",
            "Requirement already satisfied: six>=1.5 in /usr/local/lib/python3.6/dist-packages (from python-dateutil>=2.6.1->pandas) (1.12.0)\n"
          ],
          "name": "stdout"
        }
      ]
    },
    {
      "cell_type": "code",
      "metadata": {
        "id": "icVL7yjajPTS",
        "colab_type": "code",
        "outputId": "c3c9d9cc-454f-4095-b8a9-5141670ec695",
        "colab": {
          "base_uri": "https://localhost:8080/",
          "height": 35
        }
      },
      "source": [
        "!pip install numpy"
      ],
      "execution_count": 0,
      "outputs": [
        {
          "output_type": "stream",
          "text": [
            "Requirement already satisfied: numpy in /usr/local/lib/python3.6/dist-packages (1.17.5)\n"
          ],
          "name": "stdout"
        }
      ]
    },
    {
      "cell_type": "code",
      "metadata": {
        "id": "_8wBEclTjXlC",
        "colab_type": "code",
        "colab": {}
      },
      "source": [
        "#2. Import numpy as np, and pandas as pd\n",
        "\n",
        "import numpy as np\n"
      ],
      "execution_count": 0,
      "outputs": []
    },
    {
      "cell_type": "code",
      "metadata": {
        "id": "BdL-lww-kEUX",
        "colab_type": "code",
        "outputId": "e8b32ee5-707d-4f3a-99a8-9ef53f32a69e",
        "colab": {
          "base_uri": "https://localhost:8080/",
          "height": 35
        }
      },
      "source": [
        "np"
      ],
      "execution_count": 0,
      "outputs": [
        {
          "output_type": "execute_result",
          "data": {
            "text/plain": [
              "<module 'numpy' from '/usr/local/lib/python3.6/dist-packages/numpy/__init__.py'>"
            ]
          },
          "metadata": {
            "tags": []
          },
          "execution_count": 4
        }
      ]
    },
    {
      "cell_type": "code",
      "metadata": {
        "id": "pgt5SgigkI05",
        "colab_type": "code",
        "colab": {}
      },
      "source": [
        "import pandas as pd\n"
      ],
      "execution_count": 0,
      "outputs": []
    },
    {
      "cell_type": "code",
      "metadata": {
        "id": "edoPfvuMkM1l",
        "colab_type": "code",
        "outputId": "92975a04-9646-43ff-a504-235314070382",
        "colab": {
          "base_uri": "https://localhost:8080/",
          "height": 35
        }
      },
      "source": [
        "pd"
      ],
      "execution_count": 0,
      "outputs": [
        {
          "output_type": "execute_result",
          "data": {
            "text/plain": [
              "<module 'pandas' from '/usr/local/lib/python3.6/dist-packages/pandas/__init__.py'>"
            ]
          },
          "metadata": {
            "tags": []
          },
          "execution_count": 48
        }
      ]
    },
    {
      "cell_type": "code",
      "metadata": {
        "id": "1CfSL1WlkNxY",
        "colab_type": "code",
        "colab": {}
      },
      "source": [
        "#3. Make a list of 5 random numbers and convert them into a numpy array\n",
        "\n",
        "list=[22,33,44,55,66,]"
      ],
      "execution_count": 0,
      "outputs": []
    },
    {
      "cell_type": "code",
      "metadata": {
        "id": "dmPVqpEhko5R",
        "colab_type": "code",
        "colab": {}
      },
      "source": [
        "list=np.array(list)"
      ],
      "execution_count": 0,
      "outputs": []
    },
    {
      "cell_type": "code",
      "metadata": {
        "id": "q7jG_cpPkwFd",
        "colab_type": "code",
        "outputId": "755c334f-292f-423b-ff7f-5a25d50d4f8e",
        "colab": {
          "base_uri": "https://localhost:8080/",
          "height": 35
        }
      },
      "source": [
        "type(list)"
      ],
      "execution_count": 0,
      "outputs": [
        {
          "output_type": "execute_result",
          "data": {
            "text/plain": [
              "numpy.ndarray"
            ]
          },
          "metadata": {
            "tags": []
          },
          "execution_count": 9
        }
      ]
    },
    {
      "cell_type": "code",
      "metadata": {
        "id": "xwn_dAlKkz8U",
        "colab_type": "code",
        "colab": {}
      },
      "source": [
        "#4. Make numpy array of 10 numbers and print its shape\n",
        "numbers=np.array([0,1,2,3,4,5,6,7,8,9])"
      ],
      "execution_count": 0,
      "outputs": []
    },
    {
      "cell_type": "code",
      "metadata": {
        "id": "7Qilr2h3lKbo",
        "colab_type": "code",
        "outputId": "8f3b397d-115b-410d-886e-b14e9f0a3b24",
        "colab": {
          "base_uri": "https://localhost:8080/",
          "height": 35
        }
      },
      "source": [
        "numbers"
      ],
      "execution_count": 0,
      "outputs": [
        {
          "output_type": "execute_result",
          "data": {
            "text/plain": [
              "array([0, 1, 2, 3, 4, 5, 6, 7, 8, 9])"
            ]
          },
          "metadata": {
            "tags": []
          },
          "execution_count": 11
        }
      ]
    },
    {
      "cell_type": "code",
      "metadata": {
        "id": "d5v6zgq4lLyD",
        "colab_type": "code",
        "outputId": "a8b4bea9-146f-4eec-ecc5-2d4501a77fbd",
        "colab": {
          "base_uri": "https://localhost:8080/",
          "height": 35
        }
      },
      "source": [
        "numbers.shape"
      ],
      "execution_count": 0,
      "outputs": [
        {
          "output_type": "execute_result",
          "data": {
            "text/plain": [
              "(10,)"
            ]
          },
          "metadata": {
            "tags": []
          },
          "execution_count": 12
        }
      ]
    },
    {
      "cell_type": "code",
      "metadata": {
        "id": "ONN3vpImlgJ6",
        "colab_type": "code",
        "colab": {}
      },
      "source": [
        "#5. Make a numpy array called numbers containing 5 elements and multiply it by 10\n",
        "\n",
        "numbers=np.array([2,4,6,8,10])"
      ],
      "execution_count": 0,
      "outputs": []
    },
    {
      "cell_type": "code",
      "metadata": {
        "id": "PMP-31DQmZ4V",
        "colab_type": "code",
        "outputId": "302f4584-af49-4774-eebb-5ea194087ecf",
        "colab": {
          "base_uri": "https://localhost:8080/",
          "height": 35
        }
      },
      "source": [
        "numbers * 10"
      ],
      "execution_count": 0,
      "outputs": [
        {
          "output_type": "execute_result",
          "data": {
            "text/plain": [
              "array([ 20,  40,  60,  80, 100])"
            ]
          },
          "metadata": {
            "tags": []
          },
          "execution_count": 15
        }
      ]
    },
    {
      "cell_type": "code",
      "metadata": {
        "id": "Lyo4seNQmjYQ",
        "colab_type": "code",
        "outputId": "0ab409ec-356c-4c08-9aae-38a703abb6b8",
        "colab": {
          "base_uri": "https://localhost:8080/",
          "height": 35
        }
      },
      "source": [
        "#6. Divide numbers by 5\n",
        "\n",
        "numbers / 5"
      ],
      "execution_count": 0,
      "outputs": [
        {
          "output_type": "execute_result",
          "data": {
            "text/plain": [
              "array([0.4, 0.8, 1.2, 1.6, 2. ])"
            ]
          },
          "metadata": {
            "tags": []
          },
          "execution_count": 18
        }
      ]
    },
    {
      "cell_type": "code",
      "metadata": {
        "id": "mIN9-U7RmrXl",
        "colab_type": "code",
        "outputId": "a065ce1f-3d43-4d68-de87-03a099ff17ee",
        "colab": {
          "base_uri": "https://localhost:8080/",
          "height": 35
        }
      },
      "source": [
        "#7. Add 25 to you array numbers\n",
        "\n",
        "numbers +25"
      ],
      "execution_count": 0,
      "outputs": [
        {
          "output_type": "execute_result",
          "data": {
            "text/plain": [
              "array([27, 29, 31, 33, 35])"
            ]
          },
          "metadata": {
            "tags": []
          },
          "execution_count": 20
        }
      ]
    },
    {
      "cell_type": "code",
      "metadata": {
        "id": "HyTEjZtEnA6p",
        "colab_type": "code",
        "outputId": "b7c51bb9-17aa-4cba-b28f-b9e28f141efc",
        "colab": {
          "base_uri": "https://localhost:8080/",
          "height": 35
        }
      },
      "source": [
        "#8. Print the shape of numbers\n",
        " numbers.shape"
      ],
      "execution_count": 0,
      "outputs": [
        {
          "output_type": "execute_result",
          "data": {
            "text/plain": [
              "(5,)"
            ]
          },
          "metadata": {
            "tags": []
          },
          "execution_count": 21
        }
      ]
    },
    {
      "cell_type": "code",
      "metadata": {
        "id": "_nEbayb3nT-S",
        "colab_type": "code",
        "colab": {}
      },
      "source": [
        "#9. Make a numpy array called numbers_2 containing 10 elements and reshape it to (5,2)\n",
        "\n",
        "numbers_2=np.array([2,4,6,8,9,12,14,16,18,20])"
      ],
      "execution_count": 0,
      "outputs": []
    },
    {
      "cell_type": "code",
      "metadata": {
        "id": "tHR19lEbn_ZU",
        "colab_type": "code",
        "outputId": "34b49c06-9797-4d8c-b525-6d4a010d1f42",
        "colab": {
          "base_uri": "https://localhost:8080/",
          "height": 108
        }
      },
      "source": [
        "numbers_2.reshape(5,2)"
      ],
      "execution_count": 0,
      "outputs": [
        {
          "output_type": "execute_result",
          "data": {
            "text/plain": [
              "array([[ 2,  4],\n",
              "       [ 6,  8],\n",
              "       [ 9, 12],\n",
              "       [14, 16],\n",
              "       [18, 20]])"
            ]
          },
          "metadata": {
            "tags": []
          },
          "execution_count": 27
        }
      ]
    },
    {
      "cell_type": "code",
      "metadata": {
        "id": "weISVPstojSO",
        "colab_type": "code",
        "outputId": "6923e449-c957-42c9-a1ab-2f9a4f2b63f9",
        "colab": {
          "base_uri": "https://localhost:8080/",
          "height": 126
        }
      },
      "source": [
        "#10. Print a numpy array between range 10, 100\n",
        "\n",
        "numb=np.arange(10,100)\n",
        "numb\n",
        "\n"
      ],
      "execution_count": 0,
      "outputs": [
        {
          "output_type": "execute_result",
          "data": {
            "text/plain": [
              "array([10, 11, 12, 13, 14, 15, 16, 17, 18, 19, 20, 21, 22, 23, 24, 25, 26,\n",
              "       27, 28, 29, 30, 31, 32, 33, 34, 35, 36, 37, 38, 39, 40, 41, 42, 43,\n",
              "       44, 45, 46, 47, 48, 49, 50, 51, 52, 53, 54, 55, 56, 57, 58, 59, 60,\n",
              "       61, 62, 63, 64, 65, 66, 67, 68, 69, 70, 71, 72, 73, 74, 75, 76, 77,\n",
              "       78, 79, 80, 81, 82, 83, 84, 85, 86, 87, 88, 89, 90, 91, 92, 93, 94,\n",
              "       95, 96, 97, 98, 99])"
            ]
          },
          "metadata": {
            "tags": []
          },
          "execution_count": 31
        }
      ]
    },
    {
      "cell_type": "code",
      "metadata": {
        "id": "J5QficIgp9C6",
        "colab_type": "code",
        "colab": {}
      },
      "source": [
        "#11. Print a numpy array between range 10, 200 and (but only print even numbers\n",
        "numb=np.arange(10,200)"
      ],
      "execution_count": 0,
      "outputs": []
    },
    {
      "cell_type": "code",
      "metadata": {
        "id": "lQVpGgsNqpNl",
        "colab_type": "code",
        "outputId": "01eb8161-c61b-463a-9dea-93d57468ff22",
        "colab": {
          "base_uri": "https://localhost:8080/",
          "height": 290
        }
      },
      "source": [
        "numb"
      ],
      "execution_count": 0,
      "outputs": [
        {
          "output_type": "execute_result",
          "data": {
            "text/plain": [
              "array([ 10,  11,  12,  13,  14,  15,  16,  17,  18,  19,  20,  21,  22,\n",
              "        23,  24,  25,  26,  27,  28,  29,  30,  31,  32,  33,  34,  35,\n",
              "        36,  37,  38,  39,  40,  41,  42,  43,  44,  45,  46,  47,  48,\n",
              "        49,  50,  51,  52,  53,  54,  55,  56,  57,  58,  59,  60,  61,\n",
              "        62,  63,  64,  65,  66,  67,  68,  69,  70,  71,  72,  73,  74,\n",
              "        75,  76,  77,  78,  79,  80,  81,  82,  83,  84,  85,  86,  87,\n",
              "        88,  89,  90,  91,  92,  93,  94,  95,  96,  97,  98,  99, 100,\n",
              "       101, 102, 103, 104, 105, 106, 107, 108, 109, 110, 111, 112, 113,\n",
              "       114, 115, 116, 117, 118, 119, 120, 121, 122, 123, 124, 125, 126,\n",
              "       127, 128, 129, 130, 131, 132, 133, 134, 135, 136, 137, 138, 139,\n",
              "       140, 141, 142, 143, 144, 145, 146, 147, 148, 149, 150, 151, 152,\n",
              "       153, 154, 155, 156, 157, 158, 159, 160, 161, 162, 163, 164, 165,\n",
              "       166, 167, 168, 169, 170, 171, 172, 173, 174, 175, 176, 177, 178,\n",
              "       179, 180, 181, 182, 183, 184, 185, 186, 187, 188, 189, 190, 191,\n",
              "       192, 193, 194, 195, 196, 197, 198, 199])"
            ]
          },
          "metadata": {
            "tags": []
          },
          "execution_count": 35
        }
      ]
    },
    {
      "cell_type": "code",
      "metadata": {
        "id": "0-LBWjptqqXv",
        "colab_type": "code",
        "colab": {}
      },
      "source": [
        "numb=np.arange(10,200,2)"
      ],
      "execution_count": 0,
      "outputs": []
    },
    {
      "cell_type": "code",
      "metadata": {
        "id": "cUEUs7ixrLqC",
        "colab_type": "code",
        "outputId": "71ea5334-1ee7-487e-ca49-dbdeea74dfe3",
        "colab": {
          "base_uri": "https://localhost:8080/",
          "height": 163
        }
      },
      "source": [
        "numb"
      ],
      "execution_count": 0,
      "outputs": [
        {
          "output_type": "execute_result",
          "data": {
            "text/plain": [
              "array([ 10,  12,  14,  16,  18,  20,  22,  24,  26,  28,  30,  32,  34,\n",
              "        36,  38,  40,  42,  44,  46,  48,  50,  52,  54,  56,  58,  60,\n",
              "        62,  64,  66,  68,  70,  72,  74,  76,  78,  80,  82,  84,  86,\n",
              "        88,  90,  92,  94,  96,  98, 100, 102, 104, 106, 108, 110, 112,\n",
              "       114, 116, 118, 120, 122, 124, 126, 128, 130, 132, 134, 136, 138,\n",
              "       140, 142, 144, 146, 148, 150, 152, 154, 156, 158, 160, 162, 164,\n",
              "       166, 168, 170, 172, 174, 176, 178, 180, 182, 184, 186, 188, 190,\n",
              "       192, 194, 196, 198])"
            ]
          },
          "metadata": {
            "tags": []
          },
          "execution_count": 37
        }
      ]
    },
    {
      "cell_type": "code",
      "metadata": {
        "id": "fmp0xfhAw4cP",
        "colab_type": "code",
        "colab": {}
      },
      "source": [
        "#12. Import the csv file from the following url:\n",
        "url='https://docs.google.com/spreadsheets/d/e/2PACX-1vRkBuDTd8RCydM72-uLD2nJh2fBEG7M1BpiY5P5qj2k1LhLISYTaBBgOGyMbpr2vVUGBUDy_iTfS0sZ/pub?output=csv'\n",
        "data=pd.read_csv(url)"
      ],
      "execution_count": 0,
      "outputs": []
    },
    {
      "cell_type": "code",
      "metadata": {
        "id": "q0WCNcjF0YzJ",
        "colab_type": "code",
        "outputId": "813f426f-eb22-414e-fa8b-f08df9a8e154",
        "colab": {
          "base_uri": "https://localhost:8080/",
          "height": 504
        }
      },
      "source": [
        "#13. Print the first 10 rows\n",
        "\n",
        "data.head(10)"
      ],
      "execution_count": 0,
      "outputs": [
        {
          "output_type": "execute_result",
          "data": {
            "text/html": [
              "<div>\n",
              "<style scoped>\n",
              "    .dataframe tbody tr th:only-of-type {\n",
              "        vertical-align: middle;\n",
              "    }\n",
              "\n",
              "    .dataframe tbody tr th {\n",
              "        vertical-align: top;\n",
              "    }\n",
              "\n",
              "    .dataframe thead th {\n",
              "        text-align: right;\n",
              "    }\n",
              "</style>\n",
              "<table border=\"1\" class=\"dataframe\">\n",
              "  <thead>\n",
              "    <tr style=\"text-align: right;\">\n",
              "      <th></th>\n",
              "      <th>ID</th>\n",
              "      <th>Agency</th>\n",
              "      <th>Agency Type</th>\n",
              "      <th>Distribution Channel</th>\n",
              "      <th>Product Name</th>\n",
              "      <th>Duration</th>\n",
              "      <th>Destination</th>\n",
              "      <th>Net Sales</th>\n",
              "      <th>Commision (in value)</th>\n",
              "      <th>Age</th>\n",
              "      <th>Claim</th>\n",
              "    </tr>\n",
              "  </thead>\n",
              "  <tbody>\n",
              "    <tr>\n",
              "      <th>0</th>\n",
              "      <td>2010</td>\n",
              "      <td>EPX</td>\n",
              "      <td>Travel Agency</td>\n",
              "      <td>Online</td>\n",
              "      <td>Cancellation Plan</td>\n",
              "      <td>61</td>\n",
              "      <td>PHILIPPINES</td>\n",
              "      <td>12.000000</td>\n",
              "      <td>0.000000</td>\n",
              "      <td>41</td>\n",
              "      <td>0</td>\n",
              "    </tr>\n",
              "    <tr>\n",
              "      <th>1</th>\n",
              "      <td>4245</td>\n",
              "      <td>EPX</td>\n",
              "      <td>Travel Agency</td>\n",
              "      <td>Online</td>\n",
              "      <td>Cancellation Plan</td>\n",
              "      <td>4</td>\n",
              "      <td>MALAYSIA</td>\n",
              "      <td>17.000000</td>\n",
              "      <td>0.000000</td>\n",
              "      <td>35</td>\n",
              "      <td>0</td>\n",
              "    </tr>\n",
              "    <tr>\n",
              "      <th>2</th>\n",
              "      <td>9251</td>\n",
              "      <td>CWT</td>\n",
              "      <td>Travel Agency</td>\n",
              "      <td>Online</td>\n",
              "      <td>Rental Vehicle Excess Insurance</td>\n",
              "      <td>26</td>\n",
              "      <td>THAILAND</td>\n",
              "      <td>19.800000</td>\n",
              "      <td>11.880000</td>\n",
              "      <td>47</td>\n",
              "      <td>0</td>\n",
              "    </tr>\n",
              "    <tr>\n",
              "      <th>3</th>\n",
              "      <td>4754</td>\n",
              "      <td>EPX</td>\n",
              "      <td>Travel Agency</td>\n",
              "      <td>Online</td>\n",
              "      <td>2 way Comprehensive Plan</td>\n",
              "      <td>15</td>\n",
              "      <td>HONG KONG</td>\n",
              "      <td>27.000000</td>\n",
              "      <td>0.000000</td>\n",
              "      <td>48</td>\n",
              "      <td>0</td>\n",
              "    </tr>\n",
              "    <tr>\n",
              "      <th>4</th>\n",
              "      <td>8840</td>\n",
              "      <td>EPX</td>\n",
              "      <td>Travel Agency</td>\n",
              "      <td>Online</td>\n",
              "      <td>2 way Comprehensive Plan</td>\n",
              "      <td>15</td>\n",
              "      <td>MALAYSIA</td>\n",
              "      <td>37.000000</td>\n",
              "      <td>0.000000</td>\n",
              "      <td>36</td>\n",
              "      <td>0</td>\n",
              "    </tr>\n",
              "    <tr>\n",
              "      <th>5</th>\n",
              "      <td>5959</td>\n",
              "      <td>EPX</td>\n",
              "      <td>Travel Agency</td>\n",
              "      <td>Online</td>\n",
              "      <td>2 way Comprehensive Plan</td>\n",
              "      <td>4</td>\n",
              "      <td>THAILAND</td>\n",
              "      <td>25.000000</td>\n",
              "      <td>0.000000</td>\n",
              "      <td>38</td>\n",
              "      <td>0</td>\n",
              "    </tr>\n",
              "    <tr>\n",
              "      <th>6</th>\n",
              "      <td>6031</td>\n",
              "      <td>EPX</td>\n",
              "      <td>Travel Agency</td>\n",
              "      <td>Online</td>\n",
              "      <td>Cancellation Plan</td>\n",
              "      <td>215</td>\n",
              "      <td>UNITED KINGDOM</td>\n",
              "      <td>59.000000</td>\n",
              "      <td>0.000000</td>\n",
              "      <td>36</td>\n",
              "      <td>0</td>\n",
              "    </tr>\n",
              "    <tr>\n",
              "      <th>7</th>\n",
              "      <td>8394</td>\n",
              "      <td>JZI</td>\n",
              "      <td>Airlines</td>\n",
              "      <td>Online</td>\n",
              "      <td>Basic Plan</td>\n",
              "      <td>31</td>\n",
              "      <td>VIET NAM</td>\n",
              "      <td>22.000000</td>\n",
              "      <td>7.700000</td>\n",
              "      <td>43</td>\n",
              "      <td>0</td>\n",
              "    </tr>\n",
              "    <tr>\n",
              "      <th>8</th>\n",
              "      <td>3017</td>\n",
              "      <td>EPX</td>\n",
              "      <td>Travel Agency</td>\n",
              "      <td>Online</td>\n",
              "      <td>2 way Comprehensive Plan</td>\n",
              "      <td>13</td>\n",
              "      <td>CHINA</td>\n",
              "      <td>48.662699</td>\n",
              "      <td>0.000000</td>\n",
              "      <td>36</td>\n",
              "      <td>1</td>\n",
              "    </tr>\n",
              "    <tr>\n",
              "      <th>9</th>\n",
              "      <td>8054</td>\n",
              "      <td>C2B</td>\n",
              "      <td>Airlines</td>\n",
              "      <td>Online</td>\n",
              "      <td>Bronze Plan</td>\n",
              "      <td>10</td>\n",
              "      <td>SINGAPORE</td>\n",
              "      <td>23.258824</td>\n",
              "      <td>5.817294</td>\n",
              "      <td>28</td>\n",
              "      <td>1</td>\n",
              "    </tr>\n",
              "  </tbody>\n",
              "</table>\n",
              "</div>"
            ],
            "text/plain": [
              "     ID Agency    Agency Type  ... Commision (in value) Age  Claim\n",
              "0  2010    EPX  Travel Agency  ...             0.000000  41      0\n",
              "1  4245    EPX  Travel Agency  ...             0.000000  35      0\n",
              "2  9251    CWT  Travel Agency  ...            11.880000  47      0\n",
              "3  4754    EPX  Travel Agency  ...             0.000000  48      0\n",
              "4  8840    EPX  Travel Agency  ...             0.000000  36      0\n",
              "5  5959    EPX  Travel Agency  ...             0.000000  38      0\n",
              "6  6031    EPX  Travel Agency  ...             0.000000  36      0\n",
              "7  8394    JZI       Airlines  ...             7.700000  43      0\n",
              "8  3017    EPX  Travel Agency  ...             0.000000  36      1\n",
              "9  8054    C2B       Airlines  ...             5.817294  28      1\n",
              "\n",
              "[10 rows x 11 columns]"
            ]
          },
          "metadata": {
            "tags": []
          },
          "execution_count": 58
        }
      ]
    },
    {
      "cell_type": "code",
      "metadata": {
        "id": "grsJbnVdxzxN",
        "colab_type": "code",
        "colab": {}
      },
      "source": [
        "#14. Make an additional column called “Random age” and assign 10 times the original age\n",
        " data['Random_age']=data['Age'] *10"
      ],
      "execution_count": 0,
      "outputs": []
    },
    {
      "cell_type": "code",
      "metadata": {
        "id": "fQv0Qp6s1X45",
        "colab_type": "code",
        "outputId": "e12e1db8-e664-4894-e581-dd86b8abfbdc",
        "colab": {
          "base_uri": "https://localhost:8080/",
          "height": 302
        }
      },
      "source": [
        "data.head()"
      ],
      "execution_count": 0,
      "outputs": [
        {
          "output_type": "execute_result",
          "data": {
            "text/html": [
              "<div>\n",
              "<style scoped>\n",
              "    .dataframe tbody tr th:only-of-type {\n",
              "        vertical-align: middle;\n",
              "    }\n",
              "\n",
              "    .dataframe tbody tr th {\n",
              "        vertical-align: top;\n",
              "    }\n",
              "\n",
              "    .dataframe thead th {\n",
              "        text-align: right;\n",
              "    }\n",
              "</style>\n",
              "<table border=\"1\" class=\"dataframe\">\n",
              "  <thead>\n",
              "    <tr style=\"text-align: right;\">\n",
              "      <th></th>\n",
              "      <th>ID</th>\n",
              "      <th>Agency</th>\n",
              "      <th>Agency Type</th>\n",
              "      <th>Distribution Channel</th>\n",
              "      <th>Product Name</th>\n",
              "      <th>Duration</th>\n",
              "      <th>Destination</th>\n",
              "      <th>Net Sales</th>\n",
              "      <th>Commision (in value)</th>\n",
              "      <th>Age</th>\n",
              "      <th>Claim</th>\n",
              "      <th>Random_age</th>\n",
              "    </tr>\n",
              "  </thead>\n",
              "  <tbody>\n",
              "    <tr>\n",
              "      <th>0</th>\n",
              "      <td>2010</td>\n",
              "      <td>EPX</td>\n",
              "      <td>Travel Agency</td>\n",
              "      <td>Online</td>\n",
              "      <td>Cancellation Plan</td>\n",
              "      <td>61</td>\n",
              "      <td>PHILIPPINES</td>\n",
              "      <td>12.0</td>\n",
              "      <td>0.00</td>\n",
              "      <td>41</td>\n",
              "      <td>0</td>\n",
              "      <td>410</td>\n",
              "    </tr>\n",
              "    <tr>\n",
              "      <th>1</th>\n",
              "      <td>4245</td>\n",
              "      <td>EPX</td>\n",
              "      <td>Travel Agency</td>\n",
              "      <td>Online</td>\n",
              "      <td>Cancellation Plan</td>\n",
              "      <td>4</td>\n",
              "      <td>MALAYSIA</td>\n",
              "      <td>17.0</td>\n",
              "      <td>0.00</td>\n",
              "      <td>35</td>\n",
              "      <td>0</td>\n",
              "      <td>350</td>\n",
              "    </tr>\n",
              "    <tr>\n",
              "      <th>2</th>\n",
              "      <td>9251</td>\n",
              "      <td>CWT</td>\n",
              "      <td>Travel Agency</td>\n",
              "      <td>Online</td>\n",
              "      <td>Rental Vehicle Excess Insurance</td>\n",
              "      <td>26</td>\n",
              "      <td>THAILAND</td>\n",
              "      <td>19.8</td>\n",
              "      <td>11.88</td>\n",
              "      <td>47</td>\n",
              "      <td>0</td>\n",
              "      <td>470</td>\n",
              "    </tr>\n",
              "    <tr>\n",
              "      <th>3</th>\n",
              "      <td>4754</td>\n",
              "      <td>EPX</td>\n",
              "      <td>Travel Agency</td>\n",
              "      <td>Online</td>\n",
              "      <td>2 way Comprehensive Plan</td>\n",
              "      <td>15</td>\n",
              "      <td>HONG KONG</td>\n",
              "      <td>27.0</td>\n",
              "      <td>0.00</td>\n",
              "      <td>48</td>\n",
              "      <td>0</td>\n",
              "      <td>480</td>\n",
              "    </tr>\n",
              "    <tr>\n",
              "      <th>4</th>\n",
              "      <td>8840</td>\n",
              "      <td>EPX</td>\n",
              "      <td>Travel Agency</td>\n",
              "      <td>Online</td>\n",
              "      <td>2 way Comprehensive Plan</td>\n",
              "      <td>15</td>\n",
              "      <td>MALAYSIA</td>\n",
              "      <td>37.0</td>\n",
              "      <td>0.00</td>\n",
              "      <td>36</td>\n",
              "      <td>0</td>\n",
              "      <td>360</td>\n",
              "    </tr>\n",
              "  </tbody>\n",
              "</table>\n",
              "</div>"
            ],
            "text/plain": [
              "     ID Agency    Agency Type  ... Age Claim  Random_age\n",
              "0  2010    EPX  Travel Agency  ...  41     0         410\n",
              "1  4245    EPX  Travel Agency  ...  35     0         350\n",
              "2  9251    CWT  Travel Agency  ...  47     0         470\n",
              "3  4754    EPX  Travel Agency  ...  48     0         480\n",
              "4  8840    EPX  Travel Agency  ...  36     0         360\n",
              "\n",
              "[5 rows x 12 columns]"
            ]
          },
          "metadata": {
            "tags": []
          },
          "execution_count": 60
        }
      ]
    },
    {
      "cell_type": "code",
      "metadata": {
        "id": "UYwR_CDk1hMA",
        "colab_type": "code",
        "outputId": "1892ca9e-928b-4077-b52c-e520a9cf9916",
        "colab": {
          "base_uri": "https://localhost:8080/",
          "height": 348
        }
      },
      "source": [
        "#15. Print the first 10 rows of column “Age” and “Radom Age”\n",
        "\n",
        "data[['Age','Random_age']].head(10)"
      ],
      "execution_count": 0,
      "outputs": [
        {
          "output_type": "execute_result",
          "data": {
            "text/html": [
              "<div>\n",
              "<style scoped>\n",
              "    .dataframe tbody tr th:only-of-type {\n",
              "        vertical-align: middle;\n",
              "    }\n",
              "\n",
              "    .dataframe tbody tr th {\n",
              "        vertical-align: top;\n",
              "    }\n",
              "\n",
              "    .dataframe thead th {\n",
              "        text-align: right;\n",
              "    }\n",
              "</style>\n",
              "<table border=\"1\" class=\"dataframe\">\n",
              "  <thead>\n",
              "    <tr style=\"text-align: right;\">\n",
              "      <th></th>\n",
              "      <th>Age</th>\n",
              "      <th>Random_age</th>\n",
              "    </tr>\n",
              "  </thead>\n",
              "  <tbody>\n",
              "    <tr>\n",
              "      <th>0</th>\n",
              "      <td>41</td>\n",
              "      <td>410</td>\n",
              "    </tr>\n",
              "    <tr>\n",
              "      <th>1</th>\n",
              "      <td>35</td>\n",
              "      <td>350</td>\n",
              "    </tr>\n",
              "    <tr>\n",
              "      <th>2</th>\n",
              "      <td>47</td>\n",
              "      <td>470</td>\n",
              "    </tr>\n",
              "    <tr>\n",
              "      <th>3</th>\n",
              "      <td>48</td>\n",
              "      <td>480</td>\n",
              "    </tr>\n",
              "    <tr>\n",
              "      <th>4</th>\n",
              "      <td>36</td>\n",
              "      <td>360</td>\n",
              "    </tr>\n",
              "    <tr>\n",
              "      <th>5</th>\n",
              "      <td>38</td>\n",
              "      <td>380</td>\n",
              "    </tr>\n",
              "    <tr>\n",
              "      <th>6</th>\n",
              "      <td>36</td>\n",
              "      <td>360</td>\n",
              "    </tr>\n",
              "    <tr>\n",
              "      <th>7</th>\n",
              "      <td>43</td>\n",
              "      <td>430</td>\n",
              "    </tr>\n",
              "    <tr>\n",
              "      <th>8</th>\n",
              "      <td>36</td>\n",
              "      <td>360</td>\n",
              "    </tr>\n",
              "    <tr>\n",
              "      <th>9</th>\n",
              "      <td>28</td>\n",
              "      <td>280</td>\n",
              "    </tr>\n",
              "  </tbody>\n",
              "</table>\n",
              "</div>"
            ],
            "text/plain": [
              "   Age  Random_age\n",
              "0   41         410\n",
              "1   35         350\n",
              "2   47         470\n",
              "3   48         480\n",
              "4   36         360\n",
              "5   38         380\n",
              "6   36         360\n",
              "7   43         430\n",
              "8   36         360\n",
              "9   28         280"
            ]
          },
          "metadata": {
            "tags": []
          },
          "execution_count": 63
        }
      ]
    },
    {
      "cell_type": "code",
      "metadata": {
        "id": "0GqsWT4d12yS",
        "colab_type": "code",
        "outputId": "99db55ce-6b56-4f58-cc6e-98b43ab9d438",
        "colab": {
          "base_uri": "https://localhost:8080/",
          "height": 235
        }
      },
      "source": [
        "#16. Print the value counts of the following columns, “Destination”, “Claim” and “Agency Type“\n",
        "\n",
        "data['Destination'].value_counts()"
      ],
      "execution_count": 0,
      "outputs": [
        {
          "output_type": "execute_result",
          "data": {
            "text/plain": [
              "SINGAPORE       14242\n",
              "THAILAND         4562\n",
              "MALAYSIA         4359\n",
              "CHINA            3909\n",
              "AUSTRALIA        3011\n",
              "                ...  \n",
              "BELARUS             2\n",
              "BERMUDA             2\n",
              "BHUTAN              2\n",
              "ZAMBIA              1\n",
              "TURKMENISTAN        1\n",
              "Name: Destination, Length: 97, dtype: int64"
            ]
          },
          "metadata": {
            "tags": []
          },
          "execution_count": 66
        }
      ]
    },
    {
      "cell_type": "code",
      "metadata": {
        "id": "CPm6XoWO2dEU",
        "colab_type": "code",
        "outputId": "a776c54a-e8c0-4ef3-a704-f6e31d5536ce",
        "colab": {
          "base_uri": "https://localhost:8080/",
          "height": 72
        }
      },
      "source": [
        "data['Claim'].value_counts()"
      ],
      "execution_count": 0,
      "outputs": [
        {
          "output_type": "execute_result",
          "data": {
            "text/plain": [
              "0    43590\n",
              "1     8720\n",
              "Name: Claim, dtype: int64"
            ]
          },
          "metadata": {
            "tags": []
          },
          "execution_count": 67
        }
      ]
    },
    {
      "cell_type": "code",
      "metadata": {
        "id": "9KcdvS_K3Zlq",
        "colab_type": "code",
        "outputId": "9f0e4eb5-b5e5-4ecb-b529-f17fa76ec17d",
        "colab": {
          "base_uri": "https://localhost:8080/",
          "height": 72
        }
      },
      "source": [
        "data['Agency Type'].value_counts()"
      ],
      "execution_count": 0,
      "outputs": [
        {
          "output_type": "execute_result",
          "data": {
            "text/plain": [
              "Travel Agency    34996\n",
              "Airlines         17314\n",
              "Name: Agency Type, dtype: int64"
            ]
          },
          "metadata": {
            "tags": []
          },
          "execution_count": 68
        }
      ]
    },
    {
      "cell_type": "code",
      "metadata": {
        "id": "GIsCCjol3j3N",
        "colab_type": "code",
        "outputId": "5384e0ca-93e3-444b-be67-a71e70d61772",
        "colab": {
          "base_uri": "https://localhost:8080/",
          "height": 266
        }
      },
      "source": [
        "#17. Make a pie diagram of the “Agency Type”\n",
        "\n",
        "data['Agency Type'].value_counts().head(10).plot(kind='pie')"
      ],
      "execution_count": 0,
      "outputs": [
        {
          "output_type": "execute_result",
          "data": {
            "text/plain": [
              "<matplotlib.axes._subplots.AxesSubplot at 0x7f9796225940>"
            ]
          },
          "metadata": {
            "tags": []
          },
          "execution_count": 74
        },
        {
          "output_type": "display_data",
          "data": {
            "image/png": "[encoded data removed]",
            "text/plain": [
              "<Figure size 432x288 with 1 Axes>"
            ]
          },
          "metadata": {
            "tags": []
          }
        }
      ]
    },
    {
      "cell_type": "code",
      "metadata": {
        "id": "vsygu9aj38fR",
        "colab_type": "code",
        "outputId": "1f6c301b-fb90-45b2-ba5f-4c94aa1e452c",
        "colab": {
          "base_uri": "https://localhost:8080/",
          "height": 331
        }
      },
      "source": [
        "#18. Make a Bar graph of “Destination”\n",
        "data['Destination'].value_counts().head().plot(kind='bar')"
      ],
      "execution_count": 0,
      "outputs": [
        {
          "output_type": "execute_result",
          "data": {
            "text/plain": [
              "<matplotlib.axes._subplots.AxesSubplot at 0x7f979620c2b0>"
            ]
          },
          "metadata": {
            "tags": []
          },
          "execution_count": 75
        },
        {
          "output_type": "display_data",
          "data": {
            "image/png": "[encoded data removed]",
            "text/plain": [
              "<Figure size 432x288 with 1 Axes>"
            ]
          },
          "metadata": {
            "tags": []
          }
        }
      ]
    },
    {
      "cell_type": "code",
      "metadata": {
        "id": "RLw9hJBB4i_r",
        "colab_type": "code",
        "outputId": "ffc8897a-5f05-4964-f7ee-43a17c48ba0e",
        "colab": {
          "base_uri": "https://localhost:8080/",
          "height": 331
        }
      },
      "source": [
        "#19. Make a bar graph of of destination of customers only of the age 25\n",
        "\n",
        "data[data['Age']==25].head()['Destination'].value_counts().plot(kind='bar')"
      ],
      "execution_count": 0,
      "outputs": [
        {
          "output_type": "execute_result",
          "data": {
            "text/plain": [
              "<matplotlib.axes._subplots.AxesSubplot at 0x7f979619d0f0>"
            ]
          },
          "metadata": {
            "tags": []
          },
          "execution_count": 83
        },
        {
          "output_type": "display_data",
          "data": {
            "image/png": "[encoded data removed]",
            "text/plain": [
              "<Figure size 432x288 with 1 Axes>"
            ]
          },
          "metadata": {
            "tags": []
          }
        }
      ]
    },
    {
      "cell_type": "code",
      "metadata": {
        "id": "6oGywxm_5myL",
        "colab_type": "code",
        "colab": {}
      },
      "source": [
        ""
      ],
      "execution_count": 0,
      "outputs": []
    }
  ]
}