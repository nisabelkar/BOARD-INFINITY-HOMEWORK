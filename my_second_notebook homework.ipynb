{
  "nbformat": 4,
  "nbformat_minor": 0,
  "metadata": {
    "colab": {
      "name": "my second notebook.ipynb",
      "provenance": [],
      "authorship_tag": "ABX9TyN7rBx0p5CZX54h8+TgdlSR",
      "include_colab_link": true
    },
    "kernelspec": {
      "name": "python3",
      "display_name": "Python 3"
    },
    "accelerator": "GPU"
  },
  "cells": [
    {
      "cell_type": "markdown",
      "metadata": {
        "id": "view-in-github",
        "colab_type": "text"
      },
      "source": [
        "<a href=\"https://colab.research.google.com/github/nisabelkar/BOARD-INFINITY-HOMEWORK/blob/master/my_second_notebook.ipynb\" target=\"_parent\"><img src=\"https://colab.research.google.com/assets/colab-badge.svg\" alt=\"Open In Colab\"/></a>"
      ]
    },
    {
      "cell_type": "markdown",
      "metadata": {
        "id": "kdBroTAIbGhp",
        "colab_type": "text"
      },
      "source": [
        "#Introduction\n",
        " My name is nisa belkar\n",
        "currently i m pursuing my education from AC Patil college of Engineering in Information Technology department,\n",
        "i have completed my diploma in Information Technology,\n",
        " i m 21 years old.\n"
      ]
    },
    {
      "cell_type": "markdown",
      "metadata": {
        "id": "_kpN10FUcpGL",
        "colab_type": "text"
      },
      "source": [
        "#Why i want to join data science\n",
        "The reason i wanted to become a data scientist is that it is less of  programming and more of utilization of our logical skills and the foremost reason is that it has a good futurescope as well and it would help me to upgrade my skills as well as my salary as  it would provide good job opportunities along with the attractive financial package."
      ]
    },
    {
      "cell_type": "markdown",
      "metadata": {
        "id": "JCpMJefT9yGh",
        "colab_type": "text"
      },
      "source": [
        "#MAKE 3 STRING VARIABLES\n"
      ]
    },
    {
      "cell_type": "code",
      "metadata": {
        "id": "rQxpTTmAgEo7",
        "colab_type": "code",
        "colab": {}
      },
      "source": [
        "name=\"nisa\""
      ],
      "execution_count": 0,
      "outputs": []
    },
    {
      "cell_type": "code",
      "metadata": {
        "id": "05slQ_2ggNWg",
        "colab_type": "code",
        "colab": {
          "base_uri": "https://localhost:8080/",
          "height": 34
        },
        "outputId": "d889f2f5-3c97-4ebd-e31b-2b90c5ebcf0f"
      },
      "source": [
        "name"
      ],
      "execution_count": 4,
      "outputs": [
        {
          "output_type": "execute_result",
          "data": {
            "text/plain": [
              "'nisa'"
            ]
          },
          "metadata": {
            "tags": []
          },
          "execution_count": 4
        }
      ]
    },
    {
      "cell_type": "code",
      "metadata": {
        "id": "PDs0Y4f5gQJH",
        "colab_type": "code",
        "colab": {}
      },
      "source": [
        "lastname=\"belkar\""
      ],
      "execution_count": 0,
      "outputs": []
    },
    {
      "cell_type": "code",
      "metadata": {
        "id": "8cd4dWYjggrn",
        "colab_type": "code",
        "colab": {
          "base_uri": "https://localhost:8080/",
          "height": 34
        },
        "outputId": "fb6d84a2-54db-4b8e-d092-9fef11835b6b"
      },
      "source": [
        "lastname"
      ],
      "execution_count": 6,
      "outputs": [
        {
          "output_type": "execute_result",
          "data": {
            "text/plain": [
              "'belkar'"
            ]
          },
          "metadata": {
            "tags": []
          },
          "execution_count": 6
        }
      ]
    },
    {
      "cell_type": "code",
      "metadata": {
        "id": "zJ6YxTX5gh-z",
        "colab_type": "code",
        "colab": {}
      },
      "source": [
        "city=\"mumbai\""
      ],
      "execution_count": 0,
      "outputs": []
    },
    {
      "cell_type": "code",
      "metadata": {
        "id": "7wCEZwRQgmmD",
        "colab_type": "code",
        "colab": {
          "base_uri": "https://localhost:8080/",
          "height": 34
        },
        "outputId": "efed3934-c0c2-4c67-f9e2-5057b5ba552f"
      },
      "source": [
        "city"
      ],
      "execution_count": 8,
      "outputs": [
        {
          "output_type": "execute_result",
          "data": {
            "text/plain": [
              "'mumbai'"
            ]
          },
          "metadata": {
            "tags": []
          },
          "execution_count": 8
        }
      ]
    },
    {
      "cell_type": "markdown",
      "metadata": {
        "id": "v3Ta2hs598kk",
        "colab_type": "text"
      },
      "source": [
        "#MAKE 2 INTEGER VARIABLES"
      ]
    },
    {
      "cell_type": "code",
      "metadata": {
        "id": "PyoQrMIFgn1J",
        "colab_type": "code",
        "colab": {}
      },
      "source": [
        "age=21"
      ],
      "execution_count": 0,
      "outputs": []
    },
    {
      "cell_type": "code",
      "metadata": {
        "id": "IChGruzFguAU",
        "colab_type": "code",
        "colab": {
          "base_uri": "https://localhost:8080/",
          "height": 34
        },
        "outputId": "b8b20168-7ba8-48ab-83d8-6cea1aa13ffc"
      },
      "source": [
        "age"
      ],
      "execution_count": 10,
      "outputs": [
        {
          "output_type": "execute_result",
          "data": {
            "text/plain": [
              "21"
            ]
          },
          "metadata": {
            "tags": []
          },
          "execution_count": 10
        }
      ]
    },
    {
      "cell_type": "code",
      "metadata": {
        "id": "h8XGOxTkgu26",
        "colab_type": "code",
        "colab": {}
      },
      "source": [
        "height=164"
      ],
      "execution_count": 0,
      "outputs": []
    },
    {
      "cell_type": "code",
      "metadata": {
        "id": "IWklfP8cg0Dh",
        "colab_type": "code",
        "colab": {
          "base_uri": "https://localhost:8080/",
          "height": 34
        },
        "outputId": "8f047ec5-eba4-475e-a901-94707016871b"
      },
      "source": [
        "height"
      ],
      "execution_count": 17,
      "outputs": [
        {
          "output_type": "execute_result",
          "data": {
            "text/plain": [
              "164"
            ]
          },
          "metadata": {
            "tags": []
          },
          "execution_count": 17
        }
      ]
    },
    {
      "cell_type": "code",
      "metadata": {
        "id": "0Zzy31rpg1Ol",
        "colab_type": "code",
        "colab": {}
      },
      "source": [
        "myself=[name,lastname,city]"
      ],
      "execution_count": 0,
      "outputs": []
    },
    {
      "cell_type": "code",
      "metadata": {
        "id": "EkV84c5YhL6h",
        "colab_type": "code",
        "colab": {
          "base_uri": "https://localhost:8080/",
          "height": 34
        },
        "outputId": "e04b478a-095d-42f0-a027-6954749023a0"
      },
      "source": [
        "myself"
      ],
      "execution_count": 14,
      "outputs": [
        {
          "output_type": "execute_result",
          "data": {
            "text/plain": [
              "['nisa', 'belkar', 'mumbai']"
            ]
          },
          "metadata": {
            "tags": []
          },
          "execution_count": 14
        }
      ]
    },
    {
      "cell_type": "markdown",
      "metadata": {
        "id": "5CFWJ0b--E9s",
        "colab_type": "text"
      },
      "source": [
        "#MAKE 2 FLOAT VARIABLES"
      ]
    },
    {
      "cell_type": "code",
      "metadata": {
        "id": "fzjZkrY3hNiX",
        "colab_type": "code",
        "colab": {}
      },
      "source": [
        "ssc=84.2"
      ],
      "execution_count": 0,
      "outputs": []
    },
    {
      "cell_type": "code",
      "metadata": {
        "id": "qOAmyPjciJxh",
        "colab_type": "code",
        "colab": {
          "base_uri": "https://localhost:8080/",
          "height": 34
        },
        "outputId": "d9e6e57c-d93f-4f8d-b681-bbe6538af848"
      },
      "source": [
        "ssc"
      ],
      "execution_count": 21,
      "outputs": [
        {
          "output_type": "execute_result",
          "data": {
            "text/plain": [
              "84.2"
            ]
          },
          "metadata": {
            "tags": []
          },
          "execution_count": 21
        }
      ]
    },
    {
      "cell_type": "code",
      "metadata": {
        "id": "dPiK3CAMiWw9",
        "colab_type": "code",
        "colab": {}
      },
      "source": [
        "diploma=70.6"
      ],
      "execution_count": 0,
      "outputs": []
    },
    {
      "cell_type": "code",
      "metadata": {
        "id": "ZjuJ5wceieZ6",
        "colab_type": "code",
        "colab": {
          "base_uri": "https://localhost:8080/",
          "height": 34
        },
        "outputId": "3faf8242-a310-43ad-ceba-a05af3066d86"
      },
      "source": [
        "diploma"
      ],
      "execution_count": 23,
      "outputs": [
        {
          "output_type": "execute_result",
          "data": {
            "text/plain": [
              "70.6"
            ]
          },
          "metadata": {
            "tags": []
          },
          "execution_count": 23
        }
      ]
    },
    {
      "cell_type": "code",
      "metadata": {
        "id": "nUOY3IQdif34",
        "colab_type": "code",
        "colab": {}
      },
      "source": [
        "percentage=[ssc,diploma]"
      ],
      "execution_count": 0,
      "outputs": []
    },
    {
      "cell_type": "code",
      "metadata": {
        "id": "iKdUKCRuil-I",
        "colab_type": "code",
        "colab": {
          "base_uri": "https://localhost:8080/",
          "height": 34
        },
        "outputId": "cb73ab9d-3407-4349-e47c-e2029789c589"
      },
      "source": [
        "percentage"
      ],
      "execution_count": 25,
      "outputs": [
        {
          "output_type": "execute_result",
          "data": {
            "text/plain": [
              "[84.2, 70.6]"
            ]
          },
          "metadata": {
            "tags": []
          },
          "execution_count": 25
        }
      ]
    },
    {
      "cell_type": "markdown",
      "metadata": {
        "id": "ksw6I5up-RTf",
        "colab_type": "text"
      },
      "source": [
        "#MAKE A LIST CONTAINING  YOUR 5 FAVOURITE NUMBERS"
      ]
    },
    {
      "cell_type": "code",
      "metadata": {
        "id": "oJNbsj6YincJ",
        "colab_type": "code",
        "colab": {}
      },
      "source": [
        "favourite_numbers=[11,22,33,44.4,55.5]"
      ],
      "execution_count": 0,
      "outputs": []
    },
    {
      "cell_type": "code",
      "metadata": {
        "id": "SgYevs__i-Yo",
        "colab_type": "code",
        "colab": {
          "base_uri": "https://localhost:8080/",
          "height": 34
        },
        "outputId": "4044d7bd-76f1-4e35-de04-39d5eabc496d"
      },
      "source": [
        "favourite_numbers"
      ],
      "execution_count": 30,
      "outputs": [
        {
          "output_type": "execute_result",
          "data": {
            "text/plain": [
              "[11, 22, 33, 44.4, 55.5]"
            ]
          },
          "metadata": {
            "tags": []
          },
          "execution_count": 30
        }
      ]
    },
    {
      "cell_type": "markdown",
      "metadata": {
        "id": "vnz7VTjo-l3J",
        "colab_type": "text"
      },
      "source": [
        "#MAKE A LIST CONTAINING NAMES OF YOUR 5 FRIENDS"
      ]
    },
    {
      "cell_type": "code",
      "metadata": {
        "id": "l6mJdY18jUVD",
        "colab_type": "code",
        "colab": {}
      },
      "source": [
        "my_friends=[\"john\",\"smith\",\"aana\",\"elsa\",\"roy\"]"
      ],
      "execution_count": 0,
      "outputs": []
    },
    {
      "cell_type": "code",
      "metadata": {
        "id": "6HrWROycjh6N",
        "colab_type": "code",
        "colab": {
          "base_uri": "https://localhost:8080/",
          "height": 34
        },
        "outputId": "52489d07-fa67-4ba1-e943-4292cfa21441"
      },
      "source": [
        "my_friends"
      ],
      "execution_count": 33,
      "outputs": [
        {
          "output_type": "execute_result",
          "data": {
            "text/plain": [
              "['john', 'smith', 'aana', 'elsa', 'roy']"
            ]
          },
          "metadata": {
            "tags": []
          },
          "execution_count": 33
        }
      ]
    },
    {
      "cell_type": "markdown",
      "metadata": {
        "id": "cQFJOPl0-56j",
        "colab_type": "text"
      },
      "source": [
        "#PRINT NAME OF FIRST FRIEND"
      ]
    },
    {
      "cell_type": "code",
      "metadata": {
        "id": "hzIddUxIj6Cm",
        "colab_type": "code",
        "colab": {
          "base_uri": "https://localhost:8080/",
          "height": 34
        },
        "outputId": "0624cbf2-d812-477b-d31d-93117cfbcdfa"
      },
      "source": [
        "print(my_friends[0])"
      ],
      "execution_count": 35,
      "outputs": [
        {
          "output_type": "stream",
          "text": [
            "john\n"
          ],
          "name": "stdout"
        }
      ]
    },
    {
      "cell_type": "markdown",
      "metadata": {
        "id": "8-arMIK6-_U4",
        "colab_type": "text"
      },
      "source": [
        "#PRINT FAVOURITE NUMBER"
      ]
    },
    {
      "cell_type": "code",
      "metadata": {
        "id": "ok3d_6Avj_yv",
        "colab_type": "code",
        "colab": {
          "base_uri": "https://localhost:8080/",
          "height": 34
        },
        "outputId": "8c938c31-04eb-436c-a788-8741845930b5"
      },
      "source": [
        "print(favourite_numbers[2])"
      ],
      "execution_count": 36,
      "outputs": [
        {
          "output_type": "stream",
          "text": [
            "33\n"
          ],
          "name": "stdout"
        }
      ]
    },
    {
      "cell_type": "markdown",
      "metadata": {
        "id": "EAGfPnDj_Jt3",
        "colab_type": "text"
      },
      "source": [
        "#MAKE A DICTIONARY NAMED MYSELF"
      ]
    },
    {
      "cell_type": "code",
      "metadata": {
        "id": "jsn2P-7vkYsQ",
        "colab_type": "code",
        "colab": {}
      },
      "source": [
        "myself={'date of birth':\"10 nov\",'fav color':\"black\",'age':22,'gender':\"female\",'name':\"nisa\",'fav song':\"on my way\"}"
      ],
      "execution_count": 0,
      "outputs": []
    },
    {
      "cell_type": "code",
      "metadata": {
        "id": "DX-7249LljHK",
        "colab_type": "code",
        "colab": {
          "base_uri": "https://localhost:8080/",
          "height": 119
        },
        "outputId": "ef88d2ce-e95a-473b-ca62-5463200b8cdf"
      },
      "source": [
        "myself"
      ],
      "execution_count": 146,
      "outputs": [
        {
          "output_type": "execute_result",
          "data": {
            "text/plain": [
              "{'age': 22,\n",
              " 'date of birth': '10 nov',\n",
              " 'fav color': 'black',\n",
              " 'fav song': 'on my way',\n",
              " 'gender': 'female',\n",
              " 'name': 'nisa'}"
            ]
          },
          "metadata": {
            "tags": []
          },
          "execution_count": 146
        }
      ]
    },
    {
      "cell_type": "code",
      "metadata": {
        "id": "tXaV7pXjv8TZ",
        "colab_type": "code",
        "colab": {
          "base_uri": "https://localhost:8080/",
          "height": 34
        },
        "outputId": "766e7b80-ab82-4c0f-98ec-1e26de1f0f09"
      },
      "source": [
        "myself.keys()"
      ],
      "execution_count": 93,
      "outputs": [
        {
          "output_type": "execute_result",
          "data": {
            "text/plain": [
              "dict_keys(['date of birth', 'fav color', 'age', 'gender', 'name', 'fav song'])"
            ]
          },
          "metadata": {
            "tags": []
          },
          "execution_count": 93
        }
      ]
    },
    {
      "cell_type": "code",
      "metadata": {
        "id": "56OsBSaGujur",
        "colab_type": "code",
        "colab": {
          "base_uri": "https://localhost:8080/",
          "height": 34
        },
        "outputId": "2fb6ef01-4095-450b-c75c-90e20459c7ec"
      },
      "source": [
        "myself.values()"
      ],
      "execution_count": 96,
      "outputs": [
        {
          "output_type": "execute_result",
          "data": {
            "text/plain": [
              "dict_values(['10 nov', 'black', 22, 'female', 'nisa', 'on my way'])"
            ]
          },
          "metadata": {
            "tags": []
          },
          "execution_count": 96
        }
      ]
    },
    {
      "cell_type": "markdown",
      "metadata": {
        "id": "O6CQUhCO_VXs",
        "colab_type": "text"
      },
      "source": [
        "#PRINT NAME AND GENDER FROM DICTIONARY(MYSELF)"
      ]
    },
    {
      "cell_type": "code",
      "metadata": {
        "id": "XTCOXOSIma6n",
        "colab_type": "code",
        "colab": {
          "base_uri": "https://localhost:8080/",
          "height": 34
        },
        "outputId": "c076e7c1-411d-48fc-b772-9d96699f2bcc"
      },
      "source": [
        "print(myself['name'])"
      ],
      "execution_count": 97,
      "outputs": [
        {
          "output_type": "stream",
          "text": [
            "nisa\n"
          ],
          "name": "stdout"
        }
      ]
    },
    {
      "cell_type": "code",
      "metadata": {
        "id": "9zCW-XaJo0GF",
        "colab_type": "code",
        "colab": {
          "base_uri": "https://localhost:8080/",
          "height": 34
        },
        "outputId": "f1ed59bc-1a20-4009-f89e-2d4f6f967e0b"
      },
      "source": [
        "print(myself['gender'])"
      ],
      "execution_count": 98,
      "outputs": [
        {
          "output_type": "stream",
          "text": [
            "female\n"
          ],
          "name": "stdout"
        }
      ]
    },
    {
      "cell_type": "markdown",
      "metadata": {
        "id": "jTY3g4Oh_e7_",
        "colab_type": "text"
      },
      "source": [
        "#ADD NEW KEY(VEGETERIAN) TO THE DICTIONARY AND ASSIGN BOOLEAN VALUES"
      ]
    },
    {
      "cell_type": "code",
      "metadata": {
        "id": "A0SwODxq3k38",
        "colab_type": "code",
        "colab": {}
      },
      "source": [
        "myself['vegeterian']=[\"False\"]"
      ],
      "execution_count": 0,
      "outputs": []
    },
    {
      "cell_type": "code",
      "metadata": {
        "id": "MY1uzN1I3rQl",
        "colab_type": "code",
        "colab": {
          "base_uri": "https://localhost:8080/",
          "height": 136
        },
        "outputId": "a92c4a96-3570-4be4-f137-3eaea8658d6c"
      },
      "source": [
        "myself"
      ],
      "execution_count": 149,
      "outputs": [
        {
          "output_type": "execute_result",
          "data": {
            "text/plain": [
              "{'age': 22,\n",
              " 'date of birth': '10 nov',\n",
              " 'fav color': 'black',\n",
              " 'fav song': 'on my way',\n",
              " 'gender': 'female',\n",
              " 'name': 'nisa',\n",
              " 'vegeterian': ['False']}"
            ]
          },
          "metadata": {
            "tags": []
          },
          "execution_count": 149
        }
      ]
    },
    {
      "cell_type": "code",
      "metadata": {
        "id": "cuxzo0Oy5QuV",
        "colab_type": "code",
        "colab": {}
      },
      "source": [
        ""
      ],
      "execution_count": 0,
      "outputs": []
    }
  ]
}
