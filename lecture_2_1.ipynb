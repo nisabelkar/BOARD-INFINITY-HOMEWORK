{
  "nbformat": 4,
  "nbformat_minor": 0,
  "metadata": {
    "colab": {
      "name": "lecture 2.1.ipynb",
      "provenance": [],
      "authorship_tag": "ABX9TyPMHSzUaQOq7B9sZvcl0bqn",
      "include_colab_link": true
    },
    "kernelspec": {
      "name": "python3",
      "display_name": "Python 3"
    }
  },
  "cells": [
    {
      "cell_type": "markdown",
      "metadata": {
        "id": "view-in-github",
        "colab_type": "text"
      },
      "source": [
        "<a href=\"https://colab.research.google.com/github/nisabelkar/BOARD-INFINITY-HOMEWORK/blob/master/lecture_2_1.ipynb\" target=\"_parent\"><img src=\"https://colab.research.google.com/assets/colab-badge.svg\" alt=\"Open In Colab\"/></a>"
      ]
    },
    {
      "cell_type": "code",
      "metadata": {
        "id": "RQfKKoVO0JV6",
        "colab_type": "code",
        "colab": {}
      },
      "source": [
        ""
      ],
      "execution_count": 0,
      "outputs": []
    },
    {
      "cell_type": "markdown",
      "metadata": {
        "id": "JEPzoX2i1Hqy",
        "colab_type": "text"
      },
      "source": [
        "#if else statement"
      ]
    },
    {
      "cell_type": "code",
      "metadata": {
        "id": "wVVfR2Hh1KUS",
        "colab_type": "code",
        "colab": {
          "base_uri": "https://localhost:8080/",
          "height": 34
        },
        "outputId": "bc94d173-8d64-4309-abbc-a8e27e6ca85c"
      },
      "source": [
        "age=75\n",
        "if age>60:\n",
        " print('senior citizen')\n",
        "else:\n",
        "  print('adult')"
      ],
      "execution_count": 92,
      "outputs": [
        {
          "output_type": "stream",
          "text": [
            "senior citizen\n"
          ],
          "name": "stdout"
        }
      ]
    },
    {
      "cell_type": "code",
      "metadata": {
        "id": "wm7E267B2d4L",
        "colab_type": "code",
        "colab": {
          "base_uri": "https://localhost:8080/",
          "height": 248
        },
        "outputId": "b7db69a9-5cf6-4ab9-b9dd-6e17c7a4325b"
      },
      "source": [
        "age=int(input(\"enter your age\"))\n",
        "if age>18:\n",
        "  print(\"you can ride\")\n",
        "else:\n",
        "  print(\"you cannot ride\")"
      ],
      "execution_count": 98,
      "outputs": [
        {
          "output_type": "stream",
          "text": [
            "enter your age22\n"
          ],
          "name": "stdout"
        },
        {
          "output_type": "error",
          "ename": "TypeError",
          "evalue": "ignored",
          "traceback": [
            "\u001b[0;31m---------------------------------------------------------------------------\u001b[0m",
            "\u001b[0;31mTypeError\u001b[0m                                 Traceback (most recent call last)",
            "\u001b[0;32m<ipython-input-98-1ad47d6a3359>\u001b[0m in \u001b[0;36m<module>\u001b[0;34m()\u001b[0m\n\u001b[0;32m----> 1\u001b[0;31m \u001b[0mage\u001b[0m\u001b[0;34m=\u001b[0m\u001b[0mint\u001b[0m\u001b[0;34m(\u001b[0m\u001b[0minput\u001b[0m\u001b[0;34m(\u001b[0m\u001b[0;34m\"enter your age\"\u001b[0m\u001b[0;34m)\u001b[0m\u001b[0;34m)\u001b[0m\u001b[0;34m\u001b[0m\u001b[0;34m\u001b[0m\u001b[0m\n\u001b[0m\u001b[1;32m      2\u001b[0m \u001b[0;32mif\u001b[0m \u001b[0mage\u001b[0m\u001b[0;34m>\u001b[0m\u001b[0;36m18\u001b[0m\u001b[0;34m:\u001b[0m\u001b[0;34m\u001b[0m\u001b[0;34m\u001b[0m\u001b[0m\n\u001b[1;32m      3\u001b[0m   \u001b[0mprint\u001b[0m\u001b[0;34m(\u001b[0m\u001b[0;34m\"you can ride\"\u001b[0m\u001b[0;34m)\u001b[0m\u001b[0;34m\u001b[0m\u001b[0;34m\u001b[0m\u001b[0m\n\u001b[1;32m      4\u001b[0m \u001b[0;32melse\u001b[0m\u001b[0;34m:\u001b[0m\u001b[0;34m\u001b[0m\u001b[0;34m\u001b[0m\u001b[0m\n\u001b[1;32m      5\u001b[0m   \u001b[0mprint\u001b[0m\u001b[0;34m(\u001b[0m\u001b[0;34m\"you cannot ride\"\u001b[0m\u001b[0;34m)\u001b[0m\u001b[0;34m\u001b[0m\u001b[0;34m\u001b[0m\u001b[0m\n",
            "\u001b[0;31mTypeError\u001b[0m: 'int' object is not callable"
          ]
        }
      ]
    },
    {
      "cell_type": "code",
      "metadata": {
        "id": "ijYZI1NF24VC",
        "colab_type": "code",
        "colab": {}
      },
      "source": [
        ""
      ],
      "execution_count": 0,
      "outputs": []
    },
    {
      "cell_type": "markdown",
      "metadata": {
        "id": "3dDusNtp9CPW",
        "colab_type": "text"
      },
      "source": [
        "#nested if statement"
      ]
    },
    {
      "cell_type": "code",
      "metadata": {
        "id": "7d1FtFSg9GbJ",
        "colab_type": "code",
        "colab": {}
      },
      "source": [
        "#define an input variable for income\n",
        "print ('Enter your income \\n')\n",
        "income=int(input())\n",
        "\n",
        "#define an input variable for ongoing_loan\n",
        "print('Do you have an ongoing_loan \\n')\n",
        "ongoing_loan=str(input())\n",
        "\n",
        "#start the if statement\n",
        "\n",
        "if income>50000:\n",
        "  if ongoing_loan =='yes':\n",
        "    print('sorry your not eligible for loan')\n",
        "  else:\n",
        "    print('congrats,you are eligible')\n",
        "else:\n",
        "    print('sorry your not eligible for loan')"
      ],
      "execution_count": 0,
      "outputs": []
    },
    {
      "cell_type": "markdown",
      "metadata": {
        "id": "LghqakBBV8aw",
        "colab_type": "text"
      },
      "source": [
        "#looping conditions"
      ]
    },
    {
      "cell_type": "code",
      "metadata": {
        "id": "q8LyIp7Q_uXi",
        "colab_type": "code",
        "colab": {}
      },
      "source": [
        "#looping is a continous process\n",
        "#example:print random numbers\n",
        "list=[1,2,3,4,5,6,7,8,9,10]\n",
        "for nos in list:\n",
        "  print(nos)"
      ],
      "execution_count": 0,
      "outputs": []
    },
    {
      "cell_type": "code",
      "metadata": {
        "id": "_Xzfvg9RTOz4",
        "colab_type": "code",
        "colab": {}
      },
      "source": [
        "#conditional looping\n",
        "#from the list only print odd numbers\n",
        "numbers=[1,3,6,5,7,9,13,]\n",
        "for x in numbers:\n",
        "  if x%2 !=0:\n",
        "     print(x)"
      ],
      "execution_count": 0,
      "outputs": []
    },
    {
      "cell_type": "code",
      "metadata": {
        "id": "mIGFWGC6Wkn2",
        "colab_type": "code",
        "colab": {}
      },
      "source": [
        " #print even nos\n",
        "numbers=[1,2,3,4,5,6]\n",
        "for x in numbers:\n",
        "  if x%2 ==0:\n",
        "    print(x)"
      ],
      "execution_count": 0,
      "outputs": []
    },
    {
      "cell_type": "markdown",
      "metadata": {
        "id": "urGVwGmkabE7",
        "colab_type": "text"
      },
      "source": [
        "#class inheritence"
      ]
    },
    {
      "cell_type": "code",
      "metadata": {
        "id": "qaJnGs7AagAd",
        "colab_type": "code",
        "colab": {}
      },
      "source": [
        "#retrive the wine dataset from scikit learn\n",
        "from sklearn import datasets\n",
        "datasets.load_wine().keys()"
      ],
      "execution_count": 0,
      "outputs": []
    },
    {
      "cell_type": "code",
      "metadata": {
        "id": "eFB2kYqjaZeL",
        "colab_type": "code",
        "colab": {}
      },
      "source": [
        "datasets.load_wine()"
      ],
      "execution_count": 0,
      "outputs": []
    },
    {
      "cell_type": "code",
      "metadata": {
        "id": "TEU4wR_elTcR",
        "colab_type": "code",
        "colab": {}
      },
      "source": [
        ""
      ],
      "execution_count": 0,
      "outputs": []
    },
    {
      "cell_type": "code",
      "metadata": {
        "id": "R_LDM2XSe87a",
        "colab_type": "code",
        "colab": {}
      },
      "source": [
        ""
      ],
      "execution_count": 0,
      "outputs": []
    },
    {
      "cell_type": "code",
      "metadata": {
        "id": "gSku63dcfGh-",
        "colab_type": "code",
        "colab": {}
      },
      "source": [
        "#function|method\n",
        "student1={'name':'nisa','age':22,'gender':'female'}\n",
        "student2={'name':'rita','age':32,'gender':'female'}\n",
        "student3={'name':'roy','age':42,'gender':'male'}\n",
        "\n",
        "#def is used to define funcion\n",
        "def print_values(my_dictionary):\n",
        "  return my_dictionary.values()\n",
        "print(print_values(student1))"
      ],
      "execution_count": 0,
      "outputs": []
    },
    {
      "cell_type": "code",
      "metadata": {
        "id": "XdSLiJ5RfpU0",
        "colab_type": "code",
        "colab": {}
      },
      "source": [
        "#print a list having even nos using functions having a for loop\n",
        "lst=[1,2,3,4,5,6,7,8]\n",
        "\n",
        "def even(even_nos):\n",
        "  for x in even_nos:\n",
        "    if x%2==0:\n",
        "      print(x,end=\" \")\n",
        "  \n"
      ],
      "execution_count": 0,
      "outputs": []
    },
    {
      "cell_type": "code",
      "metadata": {
        "id": "cLr5NseynTG7",
        "colab_type": "code",
        "colab": {}
      },
      "source": [
        "even(lst)"
      ],
      "execution_count": 0,
      "outputs": []
    },
    {
      "cell_type": "code",
      "metadata": {
        "id": "G4aCHo_iorPt",
        "colab_type": "code",
        "colab": {
          "base_uri": "https://localhost:8080/",
          "height": 68
        },
        "outputId": "ad1b4e22-d241-4eca-a7d1-efa72f69c02b"
      },
      "source": [
        "list=[1,2,3,5,6]\n",
        "def odd(odd_nos):\n",
        "  for x in odd_nos:\n",
        "    if x%2 !=0:\n",
        "      print(x)\n",
        "odd(list)"
      ],
      "execution_count": 97,
      "outputs": [
        {
          "output_type": "stream",
          "text": [
            "1\n",
            "3\n",
            "5\n"
          ],
          "name": "stdout"
        }
      ]
    }
  ]
}